{
 "cells": [
  {
   "cell_type": "code",
   "execution_count": 6,
   "id": "4f7e40d6",
   "metadata": {},
   "outputs": [],
   "source": [
    "# Importing necessary libraries\n",
    "import time\n",
    "from pyspark import SparkConf, SparkContext"
   ]
  },
  {
   "cell_type": "code",
   "execution_count": 7,
   "id": "893f90cb",
   "metadata": {},
   "outputs": [],
   "source": [
    "# Record the start time before the execution of the main code begins\n",
    "start_time = time.time()"
   ]
  },
  {
   "cell_type": "code",
   "execution_count": 9,
   "id": "bfed6985",
   "metadata": {},
   "outputs": [],
   "source": [
    "# Setting up Spark configuration\n",
    "conf=SparkConf().setMaster(\"local[*]\").setAppName(\"Word counting application with MapReduce\")\n",
    "sc = SparkContext.getOrCreate(conf=conf)"
   ]
  },
  {
   "cell_type": "code",
   "execution_count": 10,
   "id": "d3b63cd6",
   "metadata": {},
   "outputs": [],
   "source": [
    "# Reading the input file into an RDD (Resilient Distributed Dataset)\n",
    "rdd = sc.textFile(\"Data.txt\")  # File Size 124 MB"
   ]
  },
  {
   "cell_type": "code",
   "execution_count": 11,
   "id": "37f8d271",
   "metadata": {},
   "outputs": [],
   "source": [
    "# Normalization Process\n",
    "def clean_data(x):\n",
    "    # Convert text to lowercase and remove non-alphabetic characters\n",
    "    cleaned_text = ''.join(char.lower() for char in x if char.isalpha() or char.isspace())\n",
    "     # Split text into lines, remove empty lines, and rejoin them\n",
    "    lines = cleaned_text.split('\\n')\n",
    "    non_empty_lines = [line for line in lines if line.strip() != '']\n",
    "    cleaned_text = '\\n'.join(non_empty_lines)\n",
    "    return cleaned_text"
   ]
  },
  {
   "cell_type": "code",
   "execution_count": 12,
   "id": "d4c88622",
   "metadata": {},
   "outputs": [
    {
     "data": {
      "text/plain": [
       "1000000"
      ]
     },
     "execution_count": 12,
     "metadata": {},
     "output_type": "execute_result"
    }
   ],
   "source": [
    "# Applying the clean_data function to each element in the RDD\n",
    "cleaned_rdd = rdd.map(clean_data)\n",
    "\n",
    "# Counting the number of elements in the RDD\n",
    "cleaned_rdd.count()"
   ]
  },
  {
   "cell_type": "code",
   "execution_count": 13,
   "id": "953c30fb",
   "metadata": {},
   "outputs": [
    {
     "data": {
      "text/plain": [
       "['a rebel statement sent to lisbon from jamba said  government soldiers and  guerrillas were killed in the fighting that ended jan  it said the rebel forces sill held mavinga',\n",
       " 'authorities last week issued a vacate order for a club in manhattan and closed another in the bronx',\n",
       " 'at the first pan am bankruptcy hearing for example at least five airlines were represented',\n",
       " 'mr neigum pokerfaced during the difficult task manages a second showing',\n",
       " 'this combined with the container division talks suggests the groups bankers might be considering an orderly disposal of all assets',\n",
       " 'she told the post in an interview published sunday that some of the money may have become mingled into improvements on her home that included a swimming pool a  widescreen television and renovations to her basement',\n",
       " 'according to a study by the marshall institute the average nasa employees age in  was  now most of its senior and middlemanagers will be eligible to retire in five years',\n",
       " 'preston tisch  is president and cochief executive officer of loews corp and is a former postmaster general',\n",
       " 'were dealing with an owner who couldnt give a rip they cut off her mail and she got a post office box starting friday an animalcontrol officer is accompanying finster on his route',\n",
       " 'asked if he might bring the world leaders to texas possibly to san antonio the president remarked thats a distinct possibility']"
      ]
     },
     "execution_count": 13,
     "metadata": {},
     "output_type": "execute_result"
    }
   ],
   "source": [
    "# Taking the first 10 elements of the RDD\n",
    "cleaned_rdd.take(10)"
   ]
  },
  {
   "cell_type": "code",
   "execution_count": 14,
   "id": "fb21022c",
   "metadata": {},
   "outputs": [
    {
     "data": {
      "text/plain": [
       "['a',\n",
       " 'rebel',\n",
       " 'statement',\n",
       " 'sent',\n",
       " 'to',\n",
       " 'lisbon',\n",
       " 'from',\n",
       " 'jamba',\n",
       " 'said',\n",
       " '']"
      ]
     },
     "execution_count": 14,
     "metadata": {},
     "output_type": "execute_result"
    }
   ],
   "source": [
    "# Splitting each line into words\n",
    "words=cleaned_rdd.flatMap(lambda line: line.split(\" \"))\n",
    "# Taking the first 10 words\n",
    "words.take(10)"
   ]
  },
  {
   "cell_type": "code",
   "execution_count": 15,
   "id": "f102a02f",
   "metadata": {},
   "outputs": [
    {
     "data": {
      "text/plain": [
       "[['a',\n",
       "  'rebel',\n",
       "  'statement',\n",
       "  'sent',\n",
       "  'to',\n",
       "  'lisbon',\n",
       "  'from',\n",
       "  'jamba',\n",
       "  'said',\n",
       "  '',\n",
       "  'government',\n",
       "  'soldiers',\n",
       "  'and',\n",
       "  '',\n",
       "  'guerrillas',\n",
       "  'were',\n",
       "  'killed',\n",
       "  'in',\n",
       "  'the',\n",
       "  'fighting',\n",
       "  'that',\n",
       "  'ended',\n",
       "  'jan',\n",
       "  '',\n",
       "  'it',\n",
       "  'said',\n",
       "  'the',\n",
       "  'rebel',\n",
       "  'forces',\n",
       "  'sill',\n",
       "  'held',\n",
       "  'mavinga'],\n",
       " ['authorities',\n",
       "  'last',\n",
       "  'week',\n",
       "  'issued',\n",
       "  'a',\n",
       "  'vacate',\n",
       "  'order',\n",
       "  'for',\n",
       "  'a',\n",
       "  'club',\n",
       "  'in',\n",
       "  'manhattan',\n",
       "  'and',\n",
       "  'closed',\n",
       "  'another',\n",
       "  'in',\n",
       "  'the',\n",
       "  'bronx'],\n",
       " ['at',\n",
       "  'the',\n",
       "  'first',\n",
       "  'pan',\n",
       "  'am',\n",
       "  'bankruptcy',\n",
       "  'hearing',\n",
       "  'for',\n",
       "  'example',\n",
       "  'at',\n",
       "  'least',\n",
       "  'five',\n",
       "  'airlines',\n",
       "  'were',\n",
       "  'represented'],\n",
       " ['mr',\n",
       "  'neigum',\n",
       "  'pokerfaced',\n",
       "  'during',\n",
       "  'the',\n",
       "  'difficult',\n",
       "  'task',\n",
       "  'manages',\n",
       "  'a',\n",
       "  'second',\n",
       "  'showing'],\n",
       " ['this',\n",
       "  'combined',\n",
       "  'with',\n",
       "  'the',\n",
       "  'container',\n",
       "  'division',\n",
       "  'talks',\n",
       "  'suggests',\n",
       "  'the',\n",
       "  'groups',\n",
       "  'bankers',\n",
       "  'might',\n",
       "  'be',\n",
       "  'considering',\n",
       "  'an',\n",
       "  'orderly',\n",
       "  'disposal',\n",
       "  'of',\n",
       "  'all',\n",
       "  'assets'],\n",
       " ['she',\n",
       "  'told',\n",
       "  'the',\n",
       "  'post',\n",
       "  'in',\n",
       "  'an',\n",
       "  'interview',\n",
       "  'published',\n",
       "  'sunday',\n",
       "  'that',\n",
       "  'some',\n",
       "  'of',\n",
       "  'the',\n",
       "  'money',\n",
       "  'may',\n",
       "  'have',\n",
       "  'become',\n",
       "  'mingled',\n",
       "  'into',\n",
       "  'improvements',\n",
       "  'on',\n",
       "  'her',\n",
       "  'home',\n",
       "  'that',\n",
       "  'included',\n",
       "  'a',\n",
       "  'swimming',\n",
       "  'pool',\n",
       "  'a',\n",
       "  '',\n",
       "  'widescreen',\n",
       "  'television',\n",
       "  'and',\n",
       "  'renovations',\n",
       "  'to',\n",
       "  'her',\n",
       "  'basement'],\n",
       " ['according',\n",
       "  'to',\n",
       "  'a',\n",
       "  'study',\n",
       "  'by',\n",
       "  'the',\n",
       "  'marshall',\n",
       "  'institute',\n",
       "  'the',\n",
       "  'average',\n",
       "  'nasa',\n",
       "  'employees',\n",
       "  'age',\n",
       "  'in',\n",
       "  '',\n",
       "  'was',\n",
       "  '',\n",
       "  'now',\n",
       "  'most',\n",
       "  'of',\n",
       "  'its',\n",
       "  'senior',\n",
       "  'and',\n",
       "  'middlemanagers',\n",
       "  'will',\n",
       "  'be',\n",
       "  'eligible',\n",
       "  'to',\n",
       "  'retire',\n",
       "  'in',\n",
       "  'five',\n",
       "  'years'],\n",
       " ['preston',\n",
       "  'tisch',\n",
       "  '',\n",
       "  'is',\n",
       "  'president',\n",
       "  'and',\n",
       "  'cochief',\n",
       "  'executive',\n",
       "  'officer',\n",
       "  'of',\n",
       "  'loews',\n",
       "  'corp',\n",
       "  'and',\n",
       "  'is',\n",
       "  'a',\n",
       "  'former',\n",
       "  'postmaster',\n",
       "  'general'],\n",
       " ['were',\n",
       "  'dealing',\n",
       "  'with',\n",
       "  'an',\n",
       "  'owner',\n",
       "  'who',\n",
       "  'couldnt',\n",
       "  'give',\n",
       "  'a',\n",
       "  'rip',\n",
       "  'they',\n",
       "  'cut',\n",
       "  'off',\n",
       "  'her',\n",
       "  'mail',\n",
       "  'and',\n",
       "  'she',\n",
       "  'got',\n",
       "  'a',\n",
       "  'post',\n",
       "  'office',\n",
       "  'box',\n",
       "  'starting',\n",
       "  'friday',\n",
       "  'an',\n",
       "  'animalcontrol',\n",
       "  'officer',\n",
       "  'is',\n",
       "  'accompanying',\n",
       "  'finster',\n",
       "  'on',\n",
       "  'his',\n",
       "  'route'],\n",
       " ['asked',\n",
       "  'if',\n",
       "  'he',\n",
       "  'might',\n",
       "  'bring',\n",
       "  'the',\n",
       "  'world',\n",
       "  'leaders',\n",
       "  'to',\n",
       "  'texas',\n",
       "  'possibly',\n",
       "  'to',\n",
       "  'san',\n",
       "  'antonio',\n",
       "  'the',\n",
       "  'president',\n",
       "  'remarked',\n",
       "  'thats',\n",
       "  'a',\n",
       "  'distinct',\n",
       "  'possibility']]"
      ]
     },
     "execution_count": 15,
     "metadata": {},
     "output_type": "execute_result"
    }
   ],
   "source": [
    "# Splitting each line into a list of words\n",
    "rowlist_words=cleaned_rdd.map(lambda line: line.split(\" \"))\n",
    "# Taking the first 10 lists of words\n",
    "rowlist_words.take(10)"
   ]
  },
  {
   "cell_type": "code",
   "execution_count": 16,
   "id": "b2f388e5",
   "metadata": {},
   "outputs": [
    {
     "data": {
      "text/plain": [
       "[('a', 1),\n",
       " ('rebel', 1),\n",
       " ('statement', 1),\n",
       " ('sent', 1),\n",
       " ('to', 1),\n",
       " ('lisbon', 1),\n",
       " ('from', 1),\n",
       " ('jamba', 1),\n",
       " ('said', 1),\n",
       " ('', 1)]"
      ]
     },
     "execution_count": 16,
     "metadata": {},
     "output_type": "execute_result"
    }
   ],
   "source": [
    "# Mapping each word to a tuple (word, 1) for counting\n",
    "uniqueWords = words.map(lambda word : (word, 1))\n",
    "# Taking the first 10 unique words\n",
    "uniqueWords.take(10)"
   ]
  },
  {
   "cell_type": "code",
   "execution_count": 17,
   "id": "9711bedf",
   "metadata": {},
   "outputs": [
    {
     "data": {
      "text/plain": [
       "[('statement', 4975),\n",
       " ('sent', 3645),\n",
       " ('jamba', 7),\n",
       " ('', 472906),\n",
       " ('soldiers', 3413),\n",
       " ('guerrillas', 1950),\n",
       " ('killed', 6687),\n",
       " ('in', 473567),\n",
       " ('authorities', 5082),\n",
       " ('last', 36100)]"
      ]
     },
     "execution_count": 17,
     "metadata": {},
     "output_type": "execute_result"
    }
   ],
   "source": [
    "# Reducing by key to count the occurrences of each word\n",
    "wordCounts = uniqueWords.reduceByKey(lambda x, y : x + y)\n",
    "# Taking the first 10 word counts\n",
    "wordCounts.take(10)"
   ]
  },
  {
   "cell_type": "code",
   "execution_count": 18,
   "id": "5b9eea01",
   "metadata": {},
   "outputs": [
    {
     "data": {
      "text/plain": [
       "218218"
      ]
     },
     "execution_count": 18,
     "metadata": {},
     "output_type": "execute_result"
    }
   ],
   "source": [
    "# Counting the total number of unique words\n",
    "wordCounts.count() "
   ]
  },
  {
   "cell_type": "code",
   "execution_count": 19,
   "id": "3155987b",
   "metadata": {},
   "outputs": [
    {
     "data": {
      "text/plain": [
       "[('the', 1370263),\n",
       " ('of', 595835),\n",
       " ('to', 566298),\n",
       " ('a', 507768),\n",
       " ('in', 473567),\n",
       " ('', 472906),\n",
       " ('and', 448469),\n",
       " ('said', 215897),\n",
       " ('for', 214759),\n",
       " ('that', 202017)]"
      ]
     },
     "execution_count": 19,
     "metadata": {},
     "output_type": "execute_result"
    }
   ],
   "source": [
    "# Sorting the word counts by the count value in descending order\n",
    "sortedWordCounts = sorted(wordCounts.collect(), key=lambda x: x[1], reverse=True)\n",
    "# Creating an RDD from the sorted word counts\n",
    "sortedWordCountsRDD = sc.parallelize(sortedWordCounts)\n",
    "# Taking the first 10 items from the sorted word counts RDD\n",
    "sortedWordCountsRDD.take(10)"
   ]
  },
  {
   "cell_type": "code",
   "execution_count": 20,
   "id": "164b00d2",
   "metadata": {},
   "outputs": [],
   "source": [
    "# These items are stored in the 'first_10_items' variable as a list of tuples.\n",
    "first_10_items = sortedWordCountsRDD.take(10)"
   ]
  },
  {
   "cell_type": "code",
   "execution_count": 21,
   "id": "9df7fc4b",
   "metadata": {},
   "outputs": [],
   "source": [
    "# Saving the first 10 items as a text file in the output directory\n",
    "output_dir = \"output_data/\"\n",
    "\n",
    "import shutil\n",
    "shutil.rmtree(output_dir, ignore_errors=True)\n",
    "\n",
    "sc.parallelize(first_10_items).saveAsTextFile(output_dir)"
   ]
  },
  {
   "cell_type": "code",
   "execution_count": 22,
   "id": "9bfde051",
   "metadata": {},
   "outputs": [
    {
     "name": "stdout",
     "output_type": "stream",
     "text": [
      "Program execution time: 49.97883415222168 seconds\n"
     ]
    }
   ],
   "source": [
    "end_time = time.time()\n",
    "# Calculating the execution time by subtracting the start time from the end time\n",
    "execution_time = end_time - start_time\n",
    "# Printing the program execution time in seconds\n",
    "print(f\"Program execution time: {execution_time} seconds\")"
   ]
  }
 ],
 "metadata": {
  "kernelspec": {
   "display_name": "Python 3 (ipykernel)",
   "language": "python",
   "name": "python3"
  },
  "language_info": {
   "codemirror_mode": {
    "name": "ipython",
    "version": 3
   },
   "file_extension": ".py",
   "mimetype": "text/x-python",
   "name": "python",
   "nbconvert_exporter": "python",
   "pygments_lexer": "ipython3",
   "version": "3.10.9"
  }
 },
 "nbformat": 4,
 "nbformat_minor": 5
}
